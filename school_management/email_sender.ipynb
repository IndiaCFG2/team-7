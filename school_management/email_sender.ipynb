{
 "cells": [
  {
   "cell_type": "code",
   "execution_count": 3,
   "metadata": {},
   "outputs": [
    {
     "name": "stdout",
     "output_type": "stream",
     "text": [
      "Email failed to send.\n"
     ]
    }
   ],
   "source": [
    "import smtplib\n",
    "\n",
    "\n",
    "\n",
    "def send_email(subject, msg):\n",
    "    try:\n",
    "        server = smtplib.SMTP('smtp.gmail.com:587')\n",
    "        server.ehlo()\n",
    "        server.starttls()\n",
    "        server.login(your_email,your_pass)\n",
    "        message = 'Subject: {}\\n\\n{}'.format(subject, msg)\n",
    "        server.sendmail(from_,to_, message)\n",
    "        server.quit()\n",
    "        print(\"Success: Email sent!\")\n",
    "    except:\n",
    "        print(\"Email failed to send.\")\n",
    "\n",
    "\n",
    "subject = \"Test subject\"\n",
    "msg = \"https://google.com\"\n",
    "\n",
    "send_email(subject, msg)"
   ]
  },
  {
   "cell_type": "code",
   "execution_count": null,
   "metadata": {},
   "outputs": [],
   "source": []
  }
 ],
 "metadata": {
  "kernelspec": {
   "display_name": "Python 3",
   "language": "python",
   "name": "python3"
  },
  "language_info": {
   "codemirror_mode": {
    "name": "ipython",
    "version": 3
   },
   "file_extension": ".py",
   "mimetype": "text/x-python",
   "name": "python",
   "nbconvert_exporter": "python",
   "pygments_lexer": "ipython3",
   "version": "3.8.3"
  }
 },
 "nbformat": 4,
 "nbformat_minor": 4
}
